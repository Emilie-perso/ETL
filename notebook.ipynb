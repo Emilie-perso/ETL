{
 "cells": [
  {
   "cell_type": "code",
   "execution_count": 38,
   "metadata": {},
   "outputs": [],
   "source": [
    "#import pandas and request \n",
    "import pandas as pd \n",
    "import requests \n",
    "#declaration variables \n",
    "rows = \"100\" #number of rows to fetch from the API \n",
    "url =  \"https://opendata.paris.fr/api/records/1.0/search/?dataset=chantiers-perturbants&q=&rows=\"+rows+\"&facet=cp_arrondissement&facet=typologie&facet=maitre_ouvrage&facet=objet&facet=impact_circulation&facet=niveau_perturbation&facet=statut&facet=description\"\n",
    "\n",
    "\n",
    "\n"
   ]
  },
  {
   "cell_type": "code",
   "execution_count": 43,
   "metadata": {},
   "outputs": [
    {
     "data": {
      "text/plain": [
       "list"
      ]
     },
     "execution_count": 43,
     "metadata": {},
     "output_type": "execute_result"
    }
   ],
   "source": [
    "# fetch data \n",
    "response = requests.get(url)\n",
    "response.raise_for_status()\n",
    "contenu = response.json()\n",
    "records = contenu[\"records\"]\n",
    "\n",
    "\n"
   ]
  },
  {
   "cell_type": "code",
   "execution_count": 45,
   "metadata": {},
   "outputs": [
    {
     "data": {
      "text/plain": [
       "pandas.core.frame.DataFrame"
      ]
     },
     "execution_count": 45,
     "metadata": {},
     "output_type": "execute_result"
    }
   ],
   "source": [
    "# Transformation \n",
    "df = pd.DataFrame.from_dict(records)\n",
    "fields_list = df[\"fields\"].to_list()\n",
    "fields_list\n"
   ]
  },
  {
   "cell_type": "code",
   "execution_count": 41,
   "metadata": {},
   "outputs": [
    {
     "data": {
      "text/plain": [
       "<bound method NDFrame.head of       date_fin  date_debut  niveau_perturbation  typologie  \\\n",
       "0   2022-06-30  2018-07-16                  2.0        3.0   \n",
       "1   2022-12-31  2017-12-01                  1.0        2.0   \n",
       "2   2024-04-30  2020-10-01                  2.0        1.0   \n",
       "3   2023-06-30  2022-02-07                  2.0        3.0   \n",
       "4   2022-08-31  2022-08-05                  1.0        NaN   \n",
       "..         ...         ...                  ...        ...   \n",
       "95  2022-09-01  2020-11-02                  2.0        1.0   \n",
       "96  2022-08-05  2022-06-20                  2.0        1.0   \n",
       "97  2023-04-30  2021-04-06                  2.0        3.0   \n",
       "98  2022-08-12  2022-06-27                  1.0        2.0   \n",
       "99  2022-12-30  2019-01-08                  1.0        2.0   \n",
       "\n",
       "                                                voie  \\\n",
       "0   bd Morland , rue agrippa d'Aubigné,rue Schomberg   \n",
       "1                                      Porte Maillot   \n",
       "2                                    bd de l'Hopital   \n",
       "3                                     Rue de la Paix   \n",
       "4                                        Rue Lourmel   \n",
       "..                                               ...   \n",
       "95                                  rue des archives   \n",
       "96                                    Rue de la Mare   \n",
       "97                                        rue Dareau   \n",
       "98                                 Rue des Pyrennées   \n",
       "99                               avenue de Friedland   \n",
       "\n",
       "              maitre_ouvrage  statut identifiant  \\\n",
       "0                       Spna       4    CP000786   \n",
       "1                       EOLE       2    CP000971   \n",
       "2                       STEA       2    CP001737   \n",
       "3   Rue de la Paix Paris SNC       2    CP002235   \n",
       "4                   STV - SO       2    CP002370   \n",
       "..                       ...     ...         ...   \n",
       "95      Affaires culturelles       2    CP001732   \n",
       "96                   STV N-E       2    CP002335   \n",
       "97                      RIVP       2    CP001891   \n",
       "98                       RTE       2    CP002352   \n",
       "99                 SNCF EOLE       2    CP000972   \n",
       "\n",
       "                            impact_circulation_detail impact_circulation  \\\n",
       "0   de la rue agrippa d'Aubigné depuis le bd Morla...        SENS_UNIQUE   \n",
       "1   Modification de la circulation selon les phase...         RESTREINTE   \n",
       "2                                                 NaN         RESTREINTE   \n",
       "3                 Maintien de 3.50m dans chaque sens.         RESTREINTE   \n",
       "4   Déviation par la rue Oscar Roty et la rue Sara...      BARRAGE_TOTAL   \n",
       "..                                                ...                ...   \n",
       "95                Maintien d'une file  de circulation         RESTREINTE   \n",
       "96            Mise en impasse depuis la rue Envierges      BARRAGE_TOTAL   \n",
       "97  Maintien de 4,50m de Circulation dont 1,00 m d...         RESTREINTE   \n",
       "98  Mise en sens unique de la rue du Retrait depui...        SENS_UNIQUE   \n",
       "99  Maintien d'une file de circulation  en directi...         RESTREINTE   \n",
       "\n",
       "                                            geo_shape  \\\n",
       "0   {'coordinates': [[[2.3628718989467705, 48.8504...   \n",
       "1   {'coordinates': [[[2.281210774423776, 48.87845...   \n",
       "2   {'coordinates': [[[2.362239032875809, 48.84006...   \n",
       "3   {'coordinates': [[[2.3313639895540907, 48.8692...   \n",
       "4   {'coordinates': [[[2.28612698074654, 48.843091...   \n",
       "..                                                ...   \n",
       "95  {'coordinates': [[[2.3549931752482824, 48.8581...   \n",
       "96  {'coordinates': [[[[2.388198394528592, 48.8737...   \n",
       "97  {'coordinates': [[[2.3377176418420014, 48.8314...   \n",
       "98  {'coordinates': [[[2.396223647378111, 48.86787...   \n",
       "99  {'coordinates': [[[2.304422803720147, 48.87491...   \n",
       "\n",
       "                      objet                    precision_localisation  \\\n",
       "0   REHABILITATION_IMMEUBLE           N°17,du n°2au n°8,du n°1 au n°7   \n",
       "1           TRAVAUX_OUVRAGE                                       NaN   \n",
       "2          CREATION_RESEAUX                        Square Marie Curie   \n",
       "3   REHABILITATION_IMMEUBLE                                   Au N°12   \n",
       "4        REFECTION_CHAUSSEE        Entre Oscar Roty et rue Convention   \n",
       "..                      ...                                       ...   \n",
       "95  REHABILITATION_IMMEUBLE                           du n°22 au n°26   \n",
       "96     REAMENAGEMENT_VOIRIE          A l'angle de la rue des Pyrénées   \n",
       "97  REHABILITATION_IMMEUBLE                                  18 au 24   \n",
       "98         ENTRETIEN_RESEAU  Entre la rue Orfila et la rue du Retrait   \n",
       "99          TRAVAUX_OUVRAGE    entre la rue Berryer et la rue Beaujon   \n",
       "\n",
       "   cp_arrondissement  numero_stv                              geo_point_2d  \\\n",
       "0              75004          11   [48.849669114161614, 2.362681492057824]   \n",
       "1              75017           9  [48.877789407689555, 2.2826159689048366]   \n",
       "2              75013          14    [48.84091404983383, 2.363448212735705]   \n",
       "3              75002          11  [48.869169554306666, 2.3312472821349948]   \n",
       "4              75015          13   [48.84263446695412, 2.2859840705511716]   \n",
       "..               ...         ...                                       ...   \n",
       "95             75004          11    [48.85807751478241, 2.354936406579558]   \n",
       "96             75020          10     [48.87371048333718, 2.38830950845066]   \n",
       "97             75014          12   [48.83127720631899, 2.3375635009286895]   \n",
       "98             75020          10   [48.86729679163671, 2.3966470081386877]   \n",
       "99             75008           9    [48.8747634951109, 2.3038824253010715]   \n",
       "\n",
       "                                          description  \\\n",
       "0                                                 NaN   \n",
       "1   Création d'une nouvelle gare RER E et percemen...   \n",
       "2                    Création d'un Bassin de stockage   \n",
       "3                     Travaux de curage + Gros oeuvre   \n",
       "4        Désamiantage + aménagement de voirie + Tapis   \n",
       "..                                                ...   \n",
       "95                                                NaN   \n",
       "96            Recalibrage du passage piétons surélevé   \n",
       "97                      Démolition et  reconstruction   \n",
       "98        Liaison 63 KW - Père Lachaise - Romainville   \n",
       "99                    Création d'un puits de service.   \n",
       "\n",
       "                                              url_lic identifiant_ctv  \n",
       "0                                                 NaN             NaN  \n",
       "1   http://capgeo.sig.paris.fr/PdfEtImages/Chantie...             NaN  \n",
       "2                                                 NaN             NaN  \n",
       "3                                                 NaN          555907  \n",
       "4                                                 NaN          672483  \n",
       "..                                                ...             ...  \n",
       "95                                                NaN          244054  \n",
       "96                                                NaN          538698  \n",
       "97                                                NaN          223273  \n",
       "98                                                NaN             NaN  \n",
       "99                                                NaN             NaN  \n",
       "\n",
       "[100 rows x 19 columns]>"
      ]
     },
     "execution_count": 41,
     "metadata": {},
     "output_type": "execute_result"
    }
   ],
   "source": [
    "df_fields = pd.DataFrame.from_records(fields_list)\n",
    "df_fields.head"
   ]
  },
  {
   "cell_type": "code",
   "execution_count": 46,
   "metadata": {},
   "outputs": [
    {
     "data": {
      "text/plain": [
       "NoneType"
      ]
     },
     "execution_count": 46,
     "metadata": {},
     "output_type": "execute_result"
    }
   ],
   "source": [
    "#Load \n",
    "df_fields.shape\n",
    "df_fields.to_csv('travaux_perturbants_la_circulation_v2.csv', index=False)\n",
    "\n"
   ]
  },
  {
   "cell_type": "markdown",
   "metadata": {},
   "source": []
  }
 ],
 "metadata": {
  "kernelspec": {
   "display_name": "Python 3.9.13 ('venv': venv)",
   "language": "python",
   "name": "python3"
  },
  "language_info": {
   "codemirror_mode": {
    "name": "ipython",
    "version": 3
   },
   "file_extension": ".py",
   "mimetype": "text/x-python",
   "name": "python",
   "nbconvert_exporter": "python",
   "pygments_lexer": "ipython3",
   "version": "3.9.13"
  },
  "orig_nbformat": 4,
  "vscode": {
   "interpreter": {
    "hash": "17960debca70abb594b8a82363ff921cb5483c4eb6e11a13fa8404a7db490c7a"
   }
  }
 },
 "nbformat": 4,
 "nbformat_minor": 2
}
